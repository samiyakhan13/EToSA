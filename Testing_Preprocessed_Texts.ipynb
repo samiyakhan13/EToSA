{
 "cells": [
  {
   "cell_type": "code",
   "execution_count": 1,
   "metadata": {},
   "outputs": [],
   "source": [
    "import pandas as pd "
   ]
  },
  {
   "cell_type": "code",
   "execution_count": 41,
   "metadata": {},
   "outputs": [],
   "source": [
    "datax = pd.read_csv(\"withoutspark_1.csv\") "
   ]
  },
  {
   "cell_type": "code",
   "execution_count": 42,
   "metadata": {},
   "outputs": [],
   "source": [
    "datay = pd.read_csv(\"withspark_1.csv\") "
   ]
  },
  {
   "cell_type": "code",
   "execution_count": 43,
   "metadata": {},
   "outputs": [],
   "source": [
    "datax = datax.dropna()\n",
    "datay = datay.dropna()"
   ]
  },
  {
   "cell_type": "code",
   "execution_count": 44,
   "metadata": {},
   "outputs": [
    {
     "data": {
      "text/plain": [
       "Unnamed: 0         False\n",
       "summary            False\n",
       "text               False\n",
       "cleaned_text       False\n",
       "cleaned_summary    False\n",
       "dtype: bool"
      ]
     },
     "execution_count": 44,
     "metadata": {},
     "output_type": "execute_result"
    }
   ],
   "source": [
    "datax.isnull().any()"
   ]
  },
  {
   "cell_type": "code",
   "execution_count": 45,
   "metadata": {},
   "outputs": [
    {
     "data": {
      "text/plain": [
       "Unnamed: 0         False\n",
       "summary            False\n",
       "text               False\n",
       "cleaned_summary    False\n",
       "cleaned_text       False\n",
       "dtype: bool"
      ]
     },
     "execution_count": 45,
     "metadata": {},
     "output_type": "execute_result"
    }
   ],
   "source": [
    "datay.isnull().any()"
   ]
  },
  {
   "cell_type": "code",
   "execution_count": 46,
   "metadata": {},
   "outputs": [
    {
     "data": {
      "text/plain": [
       "Unnamed: 0         88709\n",
       "summary            88709\n",
       "text               88709\n",
       "cleaned_text       88709\n",
       "cleaned_summary    88709\n",
       "dtype: int64"
      ]
     },
     "execution_count": 46,
     "metadata": {},
     "output_type": "execute_result"
    }
   ],
   "source": [
    "datax.count()"
   ]
  },
  {
   "cell_type": "code",
   "execution_count": 47,
   "metadata": {},
   "outputs": [
    {
     "data": {
      "text/plain": [
       "Unnamed: 0         88709\n",
       "summary            88709\n",
       "text               88709\n",
       "cleaned_summary    88709\n",
       "cleaned_text       88709\n",
       "dtype: int64"
      ]
     },
     "execution_count": 47,
     "metadata": {},
     "output_type": "execute_result"
    }
   ],
   "source": [
    "datay.count()"
   ]
  },
  {
   "cell_type": "code",
   "execution_count": 48,
   "metadata": {},
   "outputs": [
    {
     "name": "stdout",
     "output_type": "stream",
     "text": [
      "Matching Title Records ------ \n",
      "87628\n",
      "Matching Abstract Records ------ \n",
      "88709\n",
      "Matching Cleaned Title Records ------ \n",
      "86935\n",
      "Matching Cleaned Abstract Records ------ \n",
      "88282\n"
     ]
    }
   ],
   "source": [
    "string_1 = pd.DataFrame(columns = ['value']) \n",
    "string_2 = pd.DataFrame(columns = ['value']) \n",
    "string_1['value'] = datax.loc[:, 'summary']\n",
    "string_2['value'] = datay.loc[:, 'summary']\n",
    "new = set(string_1['value']).intersection(set(string_2['value']))\n",
    "print(\"Matching Title Records ------ \")\n",
    "print(len(new))\n",
    "string_1['value'] = datax.loc[:, 'text']\n",
    "string_2['value'] = datay.loc[:, 'text']\n",
    "new = set(string_1['value']).intersection(set(string_2['value']))\n",
    "print(\"Matching Abstract Records ------ \")\n",
    "print(len(new))\n",
    "string_1['value'] = datax.loc[:, 'cleaned_summary']\n",
    "string_2['value'] = datay.loc[:, 'cleaned_summary']\n",
    "new = set(string_1['value']).intersection(set(string_2['value']))\n",
    "print(\"Matching Cleaned Title Records ------ \")\n",
    "print(len(new))\n",
    "string_1['value'] = datax.loc[:, 'cleaned_text']\n",
    "string_2['value'] = datay.loc[:, 'cleaned_text']\n",
    "new = set(string_1['value']).intersection(set(string_2['value']))\n",
    "print(\"Matching Cleaned Abstract Records ------ \")\n",
    "print(len(new))"
   ]
  },
  {
   "cell_type": "code",
   "execution_count": null,
   "metadata": {},
   "outputs": [],
   "source": []
  },
  {
   "cell_type": "code",
   "execution_count": null,
   "metadata": {},
   "outputs": [],
   "source": []
  }
 ],
 "metadata": {
  "kernelspec": {
   "display_name": "Python 3",
   "language": "python",
   "name": "python3"
  },
  "language_info": {
   "codemirror_mode": {
    "name": "ipython",
    "version": 3
   },
   "file_extension": ".py",
   "mimetype": "text/x-python",
   "name": "python",
   "nbconvert_exporter": "python",
   "pygments_lexer": "ipython3",
   "version": "3.6.5"
  }
 },
 "nbformat": 4,
 "nbformat_minor": 2
}
